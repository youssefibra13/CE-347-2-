{
 "cells": [
  {
   "cell_type": "code",
   "execution_count": 1,
   "metadata": {},
   "outputs": [
    {
     "name": "stdout",
     "output_type": "stream",
     "text": [
      "Data sent successfully!\n"
     ]
    }
   ],
   "source": [
    "import requests\n",
    "\n",
    "# Define the endpoint URL of the remote server\n",
    "url = 'https://agents.socratics.ai:8080/ootd'\n",
    "\n",
    "# Define the data to be sent\n",
    "data = {\n",
    "    'lower_body': 'https://m.media-amazon.com/images/I/91vGZV0B7cL._AC_SY879_.jpg',   # Replace with your actual number\n",
    "    'upper_body': 'https://m.media-amazon.com/images/I/81LQKqWP-SL._AC_SX679_.jpg',  # Replace with your actual number\n",
    "    'puchase_link': 'amazon.com/'\n",
    "}\n",
    "\n",
    "links = []\n",
    "\n",
    "links.append('')\n",
    "links.append('')\n",
    "\n",
    "# Define the file to be sent\n",
    "files = {\n",
    "    'body': ('model_2.jpg', open('model_2.jpg', 'rb'), 'image/jpg')\n",
    "}\n",
    "\n",
    "# Send the POST request with data and file\n",
    "response = requests.post(url, data=data, files=files)\n",
    "\n",
    "# Check the response\n",
    "if response.status_code == 200:\n",
    "    print('Data sent successfully!')\n",
    "    # print('Response:', response.json())\n",
    "else:\n",
    "    print('Failed to send data.')\n",
    "    # print('Response:', response.text)\n"
   ]
  },
  {
   "cell_type": "code",
   "execution_count": 2,
   "metadata": {},
   "outputs": [],
   "source": [
    "f = open('image_output_k.jpg', 'wb')\n",
    "\n",
    "f.write(response.content)\n",
    "\n",
    "f.close()"
   ]
  }
 ],
 "metadata": {
  "kernelspec": {
   "display_name": "Python 3 (ipykernel)",
   "language": "python",
   "name": "python3"
  },
  "language_info": {
   "codemirror_mode": {
    "name": "ipython",
    "version": 3
   },
   "file_extension": ".py",
   "mimetype": "text/x-python",
   "name": "python",
   "nbconvert_exporter": "python",
   "pygments_lexer": "ipython3",
   "version": "3.8.8"
  }
 },
 "nbformat": 4,
 "nbformat_minor": 2
}
